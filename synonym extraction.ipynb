{
 "cells": [
  {
   "cell_type": "code",
   "execution_count": 7,
   "id": "054a7715",
   "metadata": {},
   "outputs": [
    {
     "name": "stdout",
     "output_type": "stream",
     "text": [
      "Requirement already satisfied: mysql-connector-python in c:\\users\\srill\\anaconda3\\lib\\site-packages (8.0.32)\n",
      "Requirement already satisfied: protobuf<=3.20.3,>=3.11.0 in c:\\users\\srill\\anaconda3\\lib\\site-packages (from mysql-connector-python) (3.20.3)\n"
     ]
    }
   ],
   "source": [
    "get_ipython().system('pip install mysql-connector-python')\n",
    "import csv\n",
    "import mysql.connector\n",
    "cnx = mysql.connector.connect(host='172.16.34.1', port='3307',\n",
    "                            user='umls', password='umls', database='umls2020')\n",
    "cur = cnx.cursor()\n",
    "query = '''\n",
    "    SELECT CUI, GROUP_CONCAT(DISTINCT STR SEPARATOR ',') AS synonyms FROM MRCONSO\n",
    "    WHERE SAB = 'CHV'\n",
    "    AND TTY = 'SY'\n",
    "    GROUP BY CUI;\n",
    "\n",
    "'''\n",
    "cur.execute(query)\n",
    "results = cur.fetchall()\n",
    "filename = 'chv_synonyms5.csv'\n",
    "with open(filename, mode='w', newline='') as file:\n",
    "    writer = csv.writer(file)\n",
    "    writer.writerow(['CHV', 'synonym'])\n",
    "    for row in results:\n",
    "        writer.writerow(row)\n",
    "cur.close()\n",
    "cnx.close()"
   ]
  },
  {
   "cell_type": "code",
   "execution_count": null,
   "id": "a9b667bf",
   "metadata": {},
   "outputs": [],
   "source": []
  }
 ],
 "metadata": {
  "kernelspec": {
   "display_name": "Python 3 (ipykernel)",
   "language": "python",
   "name": "python3"
  },
  "language_info": {
   "codemirror_mode": {
    "name": "ipython",
    "version": 3
   },
   "file_extension": ".py",
   "mimetype": "text/x-python",
   "name": "python",
   "nbconvert_exporter": "python",
   "pygments_lexer": "ipython3",
   "version": "3.9.13"
  }
 },
 "nbformat": 4,
 "nbformat_minor": 5
}
