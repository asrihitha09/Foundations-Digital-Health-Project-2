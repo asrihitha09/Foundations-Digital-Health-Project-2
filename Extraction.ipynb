{
 "cells": [
  {
   "cell_type": "code",
   "execution_count": 6,
   "id": "ff8dcd6e",
   "metadata": {},
   "outputs": [],
   "source": [
    "import psycopg2\n",
    "import csv\n",
    "\n",
    "def export_csv():\n",
    "    c = psycopg2.connect(database=\"mimic\", user=\"mimic_demo\", password=\"mimic_demo\", host=\"172.16.34.1\", port=\"5432\")\n",
    "    cursor = c.cursor()\n",
    "\n",
    "    cursor.execute('SET search_path to mimiciii')\n",
    "\n",
    "    cursor.execute(\"\"\"\n",
    "        SELECT n.row_id, n.chartdate, n.text, a.hospital_expire_flag, string_agg(DISTINCT d.icd9_code, '/') as icd9_codes\n",
    "        FROM noteevents n\n",
    "        INNER JOIN admissions a ON n.hadm_id = a.hadm_id\n",
    "        LEFT JOIN diagnoses_icd d ON a.hadm_id = d.hadm_id\n",
    "        WHERE n.category = 'Discharge summary'\n",
    "        GROUP BY n.row_id, n.chartdate, n.text, a.hospital_expire_flag\n",
    "        limit 10000\n",
    "    \"\"\")\n",
    "\n",
    "    with open('discharge_summary_notes_sample(3).csv', mode='w', newline='', encoding='utf-8') as file:\n",
    "        w = csv.writer(file)\n",
    "        w.writerow(['note_id', 'chartdate', 'note_text', 'hospital_expire_flag', 'icd9_codes'])\n",
    "        for note_id, chartdate, note_text, hospital_expire_flag, icd9_codes in cursor:\n",
    "            c_str = chartdate.strftime('%Y-%m-%dT%H:%M:%SZ')\n",
    "            w.writerow([note_id, c_str, note_text, hospital_expire_flag, icd9_codes])\n",
    "\n",
    "    cursor.close()\n",
    "    c.close()\n",
    "\n",
    "if __name__ == '__main__':\n",
    "    export_csv()"
   ]
  },
  {
   "cell_type": "code",
   "execution_count": 3,
   "id": "5528d2e5",
   "metadata": {},
   "outputs": [
    {
     "name": "stdout",
     "output_type": "stream",
     "text": [
      "Requirement already satisfied: psycopg2 in c:\\users\\srill\\anaconda3\\lib\\site-packages (2.9.5)\n",
      "Note: you may need to restart the kernel to use updated packages.\n"
     ]
    }
   ],
   "source": [
    "pip install psycopg2"
   ]
  }
 ],
 "metadata": {
  "kernelspec": {
   "display_name": "Python 3 (ipykernel)",
   "language": "python",
   "name": "python3"
  },
  "language_info": {
   "codemirror_mode": {
    "name": "ipython",
    "version": 3
   },
   "file_extension": ".py",
   "mimetype": "text/x-python",
   "name": "python",
   "nbconvert_exporter": "python",
   "pygments_lexer": "ipython3",
   "version": "3.9.13"
  }
 },
 "nbformat": 4,
 "nbformat_minor": 5
}
